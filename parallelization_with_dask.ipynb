{
 "cells": [
  {
   "cell_type": "code",
   "execution_count": 1,
   "metadata": {},
   "outputs": [],
   "source": [
    "import time\n",
    "from time import sleep\n",
    "import pdb\n",
    "from dask.distributed import Client"
   ]
  },
  {
   "cell_type": "markdown",
   "metadata": {},
   "source": [
    "## Create a class to run our logic"
   ]
  },
  {
   "cell_type": "code",
   "execution_count": 2,
   "metadata": {},
   "outputs": [],
   "source": [
    "class TestClass:\n",
    "    def __init__(self, group_id):\n",
    "        self.group_id = group_id\n",
    "        self.sleep_time = None\n",
    "\n",
    "    def sleep(self):\n",
    "        sleep(self.sleep_time)\n",
    "        return('group_id {}; slept for {} seconds'.format(self.group_id, self.sleep_time))"
   ]
  },
  {
   "cell_type": "markdown",
   "metadata": {},
   "source": [
    "## Implement heterogenous class instantiations in serial"
   ]
  },
  {
   "cell_type": "code",
   "execution_count": 11,
   "metadata": {},
   "outputs": [],
   "source": [
    "def serial_test():\n",
    "\n",
    "    group_ids = [1, 2]\n",
    "    sleep_times = [1, 2, 3, 4, 5]\n",
    "\n",
    "    start_time = time.time()\n",
    "\n",
    "    for i in group_ids:\n",
    "        for j in sleep_times:\n",
    "            test_class = TestClass(i)\n",
    "            test_class.sleep_time = j\n",
    "            print('submitting test_class group_id = {}, sleep_time = {}'.format(test_class.group_id, test_class.sleep_time))\n",
    "            print(test_class.sleep())\n",
    "\n",
    "    print('Whole process took {} seconds'.format(time.time() - start_time))"
   ]
  },
  {
   "cell_type": "code",
   "execution_count": 15,
   "metadata": {},
   "outputs": [
    {
     "name": "stdout",
     "output_type": "stream",
     "text": [
      "submitting test_class group_id = 1, sleep_time = 1\n",
      "group_id 1; slept for 1 seconds\n",
      "submitting test_class group_id = 1, sleep_time = 2\n",
      "group_id 1; slept for 2 seconds\n",
      "submitting test_class group_id = 1, sleep_time = 3\n",
      "group_id 1; slept for 3 seconds\n",
      "submitting test_class group_id = 1, sleep_time = 4\n",
      "group_id 1; slept for 4 seconds\n",
      "submitting test_class group_id = 1, sleep_time = 5\n",
      "group_id 1; slept for 5 seconds\n",
      "submitting test_class group_id = 2, sleep_time = 1\n",
      "group_id 2; slept for 1 seconds\n",
      "submitting test_class group_id = 2, sleep_time = 2\n",
      "group_id 2; slept for 2 seconds\n",
      "submitting test_class group_id = 2, sleep_time = 3\n",
      "group_id 2; slept for 3 seconds\n",
      "submitting test_class group_id = 2, sleep_time = 4\n",
      "group_id 2; slept for 4 seconds\n",
      "submitting test_class group_id = 2, sleep_time = 5\n",
      "group_id 2; slept for 5 seconds\n",
      "Whole process took 30.041079998016357 seconds\n"
     ]
    }
   ],
   "source": [
    "serial_test()"
   ]
  },
  {
   "cell_type": "markdown",
   "metadata": {},
   "source": [
    "## Implement same heterogeneous class instantiations in parallel using dask"
   ]
  },
  {
   "cell_type": "code",
   "execution_count": null,
   "metadata": {},
   "outputs": [],
   "source": [
    "def dask_test():\n",
    "\n",
    "    if socket.gethostname() == 'submit3.chtc.wisc.edu':\n",
    "        # CHTC execution\n",
    "        cluster = CHTCCluster(job_extra = {\"accounting_group\": \"COVID19_AFIDSI\"}, log_directory='./test_logs')\n",
    "        cluster.adapt(minimum=10, maximum=20)\n",
    "        client = Client(cluster)\n",
    "    else:\n",
    "        # local execution\n",
    "    client = Client()\n",
    "    client = Client('google_cloud_platform', )"
   ]
  },
  {
   "cell_type": "code",
   "execution_count": 13,
   "metadata": {},
   "outputs": [],
   "source": [
    "def dask_test():\n",
    "    client = Client()\n",
    "\n",
    "    group_ids = [1, 2]\n",
    "    sleep_times = [1, 2, 3, 4, 5]\n",
    "\n",
    "    # create empty array to collect results\n",
    "    results = []\n",
    "\n",
    "    start_time = time.time()\n",
    "\n",
    "    for i in group_ids:\n",
    "        for j in sleep_times:\n",
    "            test_class = TestClass(i)\n",
    "            test_class.sleep_time = j\n",
    "            print('submitting test_class instance_id = {}, sleep_time = {}'.format(test_class.group_id, test_class.sleep_time))\n",
    "            future = client.submit(test_class.sleep)\n",
    "            results.append(future)\n",
    "\n",
    "    # print(client.gather(results))\n",
    "    for result in results:\n",
    "        print('result = ' + result.result())\n",
    "\n",
    "    print('Whole process took {} seconds'.format(time.time() - start_time))"
   ]
  },
  {
   "cell_type": "code",
   "execution_count": 14,
   "metadata": {
    "scrolled": false
   },
   "outputs": [
    {
     "name": "stdout",
     "output_type": "stream",
     "text": [
      "submitting test_class instance_id = 1, sleep_time = 1\n",
      "submitting test_class instance_id = 1, sleep_time = 2\n",
      "submitting test_class instance_id = 1, sleep_time = 3\n",
      "submitting test_class instance_id = 1, sleep_time = 4\n",
      "submitting test_class instance_id = 1, sleep_time = 5\n",
      "submitting test_class instance_id = 2, sleep_time = 1\n",
      "submitting test_class instance_id = 2, sleep_time = 2\n",
      "submitting test_class instance_id = 2, sleep_time = 3\n",
      "submitting test_class instance_id = 2, sleep_time = 4\n",
      "submitting test_class instance_id = 2, sleep_time = 5\n",
      "result = group_id 1; slept for 1 seconds\n",
      "result = group_id 1; slept for 2 seconds\n",
      "result = group_id 1; slept for 3 seconds\n",
      "result = group_id 1; slept for 4 seconds\n",
      "result = group_id 1; slept for 5 seconds\n",
      "result = group_id 2; slept for 1 seconds\n",
      "result = group_id 2; slept for 2 seconds\n",
      "result = group_id 2; slept for 3 seconds\n",
      "result = group_id 2; slept for 4 seconds\n",
      "result = group_id 2; slept for 5 seconds\n",
      "Whole process took 6.041740894317627 seconds\n"
     ]
    }
   ],
   "source": [
    "dask_test()"
   ]
  },
  {
   "cell_type": "markdown",
   "metadata": {},
   "source": [
    "## Pickle example for saving the results for later access"
   ]
  },
  {
   "cell_type": "code",
   "execution_count": 18,
   "metadata": {},
   "outputs": [
    {
     "name": "stdout",
     "output_type": "stream",
     "text": [
      "{'lion': 'yellow', 'kitty': 'red'}\n"
     ]
    }
   ],
   "source": [
    "import pickle\n",
    "\n",
    "# create dictionary. You can pickle any python object (model, array, string, whatever)\n",
    "favorite_color = {\"lion\": \"yellow\", \"kitty\": \"red\"}\n",
    "\n",
    "# write dict to pickle file - the '.pkl' extention is the convention, but can be anything\n",
    "pickle.dump(favorite_color, open(\"favorite_color.pkl\", \"wb\" ))\n",
    "\n",
    "# Load the dictionary back from the pickle file.\n",
    "favorite_color_reloaded = pickle.load(open(\"favorite_color.pkl\", \"rb\"))\n",
    "\n",
    "print(favorite_color_reloaded)"
   ]
  },
  {
   "cell_type": "code",
   "execution_count": null,
   "metadata": {},
   "outputs": [],
   "source": []
  }
 ],
 "metadata": {
  "kernelspec": {
   "display_name": "IPython (Python 3)",
   "language": "python",
   "name": "python3"
  },
  "language_info": {
   "codemirror_mode": {
    "name": "ipython",
    "version": 3
   },
   "file_extension": ".py",
   "mimetype": "text/x-python",
   "name": "python",
   "nbconvert_exporter": "python",
   "pygments_lexer": "ipython3",
   "version": "3.8.5"
  }
 },
 "nbformat": 4,
 "nbformat_minor": 4
}
